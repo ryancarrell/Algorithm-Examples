{
 "cells": [
  {
   "cell_type": "markdown",
   "id": "6a1440d4-619e-4b24-b426-6576b0189e04",
   "metadata": {},
   "source": [
    "# Titanic Disaster - Binary Classification - Logistic Regression"
   ]
  },
  {
   "cell_type": "markdown",
   "id": "257e424b-8f2d-4eff-95f0-fbede9d1815a",
   "metadata": {},
   "source": [
    "## Introduction"
   ]
  },
  {
   "cell_type": "markdown",
   "id": "0d20088e-00cd-41d9-ada7-6638312a6fb7",
   "metadata": {},
   "source": [
    "This is an example of a **Binary Classification** algorithm. For this project, I have leveraged Logistic Regression. Additional popular algorithms for Binary Classification include:\n",
    "\n",
    "* k-Nearest Neighbors\n",
    "* Decision Trees\n",
    "* Support Vector Machine\n",
    "* Naive Bayes\n"
   ]
  },
  {
   "cell_type": "markdown",
   "id": "52221851-5358-4d50-9c78-f96cf571d3de",
   "metadata": {},
   "source": [
    "## Importing Data Science Libraries"
   ]
  },
  {
   "cell_type": "code",
   "execution_count": 548,
   "id": "bfd1c8d3-8a88-4296-abdc-2c9cd2b66448",
   "metadata": {},
   "outputs": [],
   "source": [
    "import pandas as pd\n",
    "import numpy as np\n",
    "import matplotlib.pyplot as plt\n",
    "from sklearn import metrics\n",
    "from sklearn import preprocessing\n",
    "from sklearn.linear_model import LogisticRegression\n",
    "from sklearn.metrics import classification_report, confusion_matrix\n",
    "import seaborn as sns"
   ]
  },
  {
   "cell_type": "markdown",
   "id": "04a3e9b9-1eca-489f-a05f-56a1423cd44c",
   "metadata": {
    "tags": []
   },
   "source": [
    "## Data Cleansing"
   ]
  },
  {
   "cell_type": "markdown",
   "id": "fd3679e6-d6d8-4a16-b753-4f996c2947e2",
   "metadata": {},
   "source": [
    "#### Importing the Datasets"
   ]
  },
  {
   "cell_type": "code",
   "execution_count": 549,
   "id": "487e7f46-4762-42b1-a803-88ff334d0151",
   "metadata": {
    "tags": []
   },
   "outputs": [],
   "source": [
    "trainDF = pd.read_csv('/Users/ryancarrell/Desktop/titanic/train.csv')\n",
    "testDF = pd.read_csv('/Users/ryancarrell/Desktop/titanic/test.csv')"
   ]
  },
  {
   "cell_type": "code",
   "execution_count": 550,
   "id": "133894df-bfb8-4ab5-89df-1306e5351827",
   "metadata": {},
   "outputs": [
    {
     "name": "stdout",
     "output_type": "stream",
     "text": [
      "Index(['PassengerId', 'Survived', 'Pclass', 'Name', 'Sex', 'Age', 'SibSp',\n",
      "       'Parch', 'Ticket', 'Fare', 'Cabin', 'Embarked'],\n",
      "      dtype='object')\n"
     ]
    }
   ],
   "source": [
    "print(trainDF.columns)"
   ]
  },
  {
   "cell_type": "markdown",
   "id": "1eda2ff2-56ba-4de2-a4bf-03f65b7dab54",
   "metadata": {},
   "source": [
    "Based on the output, the following columns are possible explanatory variables:\n",
    "\n",
    "* Pclass (Ticket class; Key: 1 = 1st, 2 = 2nd, 3 = 3rd)\n",
    "* Name (Name of passenger)\n",
    "* Sex (Sex)\n",
    "* Age (Age in years)\n",
    "* SibSp (# of siblings / spouses aboard the Titanic)\n",
    "* Parch (# of parents / children aboard the Titanic)\n",
    "* Ticket (Ticket number)\n",
    "* Fare (Passenger fare)\n",
    "* Cabin (Cabin number)\n",
    "* Embarked (Port of Embarkation; Key: C = Cherbourg, Q = Queenstown, S = Southampton)\n",
    "\n",
    "Here is an example of the data contained in this dataset:"
   ]
  },
  {
   "cell_type": "code",
   "execution_count": 551,
   "id": "ccee2119-73f9-42ce-9f27-8c8dba168080",
   "metadata": {},
   "outputs": [
    {
     "data": {
      "text/html": [
       "<div>\n",
       "<style scoped>\n",
       "    .dataframe tbody tr th:only-of-type {\n",
       "        vertical-align: middle;\n",
       "    }\n",
       "\n",
       "    .dataframe tbody tr th {\n",
       "        vertical-align: top;\n",
       "    }\n",
       "\n",
       "    .dataframe thead th {\n",
       "        text-align: right;\n",
       "    }\n",
       "</style>\n",
       "<table border=\"1\" class=\"dataframe\">\n",
       "  <thead>\n",
       "    <tr style=\"text-align: right;\">\n",
       "      <th></th>\n",
       "      <th>PassengerId</th>\n",
       "      <th>Survived</th>\n",
       "      <th>Pclass</th>\n",
       "      <th>Name</th>\n",
       "      <th>Sex</th>\n",
       "      <th>Age</th>\n",
       "      <th>SibSp</th>\n",
       "      <th>Parch</th>\n",
       "      <th>Ticket</th>\n",
       "      <th>Fare</th>\n",
       "      <th>Cabin</th>\n",
       "      <th>Embarked</th>\n",
       "    </tr>\n",
       "  </thead>\n",
       "  <tbody>\n",
       "    <tr>\n",
       "      <th>0</th>\n",
       "      <td>1</td>\n",
       "      <td>0</td>\n",
       "      <td>3</td>\n",
       "      <td>Braund, Mr. Owen Harris</td>\n",
       "      <td>male</td>\n",
       "      <td>22.0</td>\n",
       "      <td>1</td>\n",
       "      <td>0</td>\n",
       "      <td>A/5 21171</td>\n",
       "      <td>7.2500</td>\n",
       "      <td>NaN</td>\n",
       "      <td>S</td>\n",
       "    </tr>\n",
       "    <tr>\n",
       "      <th>1</th>\n",
       "      <td>2</td>\n",
       "      <td>1</td>\n",
       "      <td>1</td>\n",
       "      <td>Cumings, Mrs. John Bradley (Florence Briggs Th...</td>\n",
       "      <td>female</td>\n",
       "      <td>38.0</td>\n",
       "      <td>1</td>\n",
       "      <td>0</td>\n",
       "      <td>PC 17599</td>\n",
       "      <td>71.2833</td>\n",
       "      <td>C85</td>\n",
       "      <td>C</td>\n",
       "    </tr>\n",
       "    <tr>\n",
       "      <th>2</th>\n",
       "      <td>3</td>\n",
       "      <td>1</td>\n",
       "      <td>3</td>\n",
       "      <td>Heikkinen, Miss. Laina</td>\n",
       "      <td>female</td>\n",
       "      <td>26.0</td>\n",
       "      <td>0</td>\n",
       "      <td>0</td>\n",
       "      <td>STON/O2. 3101282</td>\n",
       "      <td>7.9250</td>\n",
       "      <td>NaN</td>\n",
       "      <td>S</td>\n",
       "    </tr>\n",
       "    <tr>\n",
       "      <th>3</th>\n",
       "      <td>4</td>\n",
       "      <td>1</td>\n",
       "      <td>1</td>\n",
       "      <td>Futrelle, Mrs. Jacques Heath (Lily May Peel)</td>\n",
       "      <td>female</td>\n",
       "      <td>35.0</td>\n",
       "      <td>1</td>\n",
       "      <td>0</td>\n",
       "      <td>113803</td>\n",
       "      <td>53.1000</td>\n",
       "      <td>C123</td>\n",
       "      <td>S</td>\n",
       "    </tr>\n",
       "    <tr>\n",
       "      <th>4</th>\n",
       "      <td>5</td>\n",
       "      <td>0</td>\n",
       "      <td>3</td>\n",
       "      <td>Allen, Mr. William Henry</td>\n",
       "      <td>male</td>\n",
       "      <td>35.0</td>\n",
       "      <td>0</td>\n",
       "      <td>0</td>\n",
       "      <td>373450</td>\n",
       "      <td>8.0500</td>\n",
       "      <td>NaN</td>\n",
       "      <td>S</td>\n",
       "    </tr>\n",
       "  </tbody>\n",
       "</table>\n",
       "</div>"
      ],
      "text/plain": [
       "   PassengerId  Survived  Pclass  \\\n",
       "0            1         0       3   \n",
       "1            2         1       1   \n",
       "2            3         1       3   \n",
       "3            4         1       1   \n",
       "4            5         0       3   \n",
       "\n",
       "                                                Name     Sex   Age  SibSp  \\\n",
       "0                            Braund, Mr. Owen Harris    male  22.0      1   \n",
       "1  Cumings, Mrs. John Bradley (Florence Briggs Th...  female  38.0      1   \n",
       "2                             Heikkinen, Miss. Laina  female  26.0      0   \n",
       "3       Futrelle, Mrs. Jacques Heath (Lily May Peel)  female  35.0      1   \n",
       "4                           Allen, Mr. William Henry    male  35.0      0   \n",
       "\n",
       "   Parch            Ticket     Fare Cabin Embarked  \n",
       "0      0         A/5 21171   7.2500   NaN        S  \n",
       "1      0          PC 17599  71.2833   C85        C  \n",
       "2      0  STON/O2. 3101282   7.9250   NaN        S  \n",
       "3      0            113803  53.1000  C123        S  \n",
       "4      0            373450   8.0500   NaN        S  "
      ]
     },
     "execution_count": 551,
     "metadata": {},
     "output_type": "execute_result"
    }
   ],
   "source": [
    "trainDF.head()"
   ]
  },
  {
   "cell_type": "code",
   "execution_count": 552,
   "id": "12312e62-9c6c-4712-9715-ebcbe5147390",
   "metadata": {},
   "outputs": [
    {
     "data": {
      "text/plain": [
       "0    549\n",
       "1    342\n",
       "Name: Survived, dtype: int64"
      ]
     },
     "execution_count": 552,
     "metadata": {},
     "output_type": "execute_result"
    }
   ],
   "source": [
    "trainDF['Survived'].value_counts()"
   ]
  },
  {
   "cell_type": "code",
   "execution_count": 553,
   "id": "30758612-f570-43dd-8155-54e1479fb88c",
   "metadata": {},
   "outputs": [
    {
     "data": {
      "text/plain": [
       "male      577\n",
       "female    314\n",
       "Name: Sex, dtype: int64"
      ]
     },
     "execution_count": 553,
     "metadata": {},
     "output_type": "execute_result"
    }
   ],
   "source": [
    "trainDF['Sex'].value_counts()"
   ]
  },
  {
   "cell_type": "code",
   "execution_count": 554,
   "id": "5fd1441d-6b61-46fa-83d5-0e5653e26cb9",
   "metadata": {},
   "outputs": [
    {
     "data": {
      "text/plain": [
       "Text(0, 0.5, 'Number of Survivors')"
      ]
     },
     "execution_count": 554,
     "metadata": {},
     "output_type": "execute_result"
    },
    {
     "data": {
      "image/png": "[encoded data removed]",
      "text/plain": [
       "<Figure size 432x288 with 1 Axes>"
      ]
     },
     "metadata": {
      "needs_background": "light"
     },
     "output_type": "display_data"
    }
   ],
   "source": [
    "pd.crosstab(trainDF['Sex'], trainDF['Survived']).plot(kind='bar')\n",
    "plt.title('Number of Survivors by Sex')\n",
    "plt.xlabel('Sex')\n",
    "plt.ylabel('Number of Survivors')"
   ]
  },
  {
   "cell_type": "code",
   "execution_count": 555,
   "id": "8eb9e31e-cb61-4f42-8419-16ac7ed4ad95",
   "metadata": {},
   "outputs": [
    {
     "data": {
      "text/plain": [
       "Text(0, 0.5, 'Number of Survivors')"
      ]
     },
     "execution_count": 555,
     "metadata": {},
     "output_type": "execute_result"
    },
    {
     "data": {
      "image/png": "[encoded data removed]",
      "text/plain": [
       "<Figure size 432x288 with 1 Axes>"
      ]
     },
     "metadata": {
      "needs_background": "light"
     },
     "output_type": "display_data"
    }
   ],
   "source": [
    "pd.crosstab(trainDF['Age'], trainDF['Survived']).plot(kind='bar')\n",
    "plt.title('Number of Survivors by Age')\n",
    "plt.xlabel('Age')\n",
    "plt.ylabel('Number of Survivors')"
   ]
  },
  {
   "cell_type": "code",
   "execution_count": 556,
   "id": "1d8f73a3-83e9-4225-b0ed-cc4d6068755a",
   "metadata": {},
   "outputs": [
    {
     "data": {
      "text/plain": [
       "Text(0, 0.5, 'Number of Survivors')"
      ]
     },
     "execution_count": 556,
     "metadata": {},
     "output_type": "execute_result"
    },
    {
     "data": {
      "image/png": "[encoded data removed]",
      "text/plain": [
       "<Figure size 432x288 with 1 Axes>"
      ]
     },
     "metadata": {
      "needs_background": "light"
     },
     "output_type": "display_data"
    }
   ],
   "source": [
    "pd.crosstab(trainDF['SibSp'], trainDF['Survived']).plot(kind='bar')\n",
    "plt.title('Number of Survivors by # of Siblings / Spouses Aboard Titanic')\n",
    "plt.xlabel('# of Siblings / Spouses Aboard Titanic')\n",
    "plt.ylabel('Number of Survivors')"
   ]
  },
  {
   "cell_type": "code",
   "execution_count": 557,
   "id": "4d232c3b-8bd0-4155-ba54-986efec669a9",
   "metadata": {},
   "outputs": [],
   "source": [
    "#Update 'Sex' variable to floats for model input\n",
    "trainDF['Sex'].mask(trainDF['Sex'] == 'male', 0, inplace=True)\n",
    "trainDF['Sex'].mask(trainDF['Sex'] == 'female', 1, inplace=True)\n",
    "testDF['Sex'].mask(testDF['Sex'] == 'male', 0, inplace=True)\n",
    "testDF['Sex'].mask(testDF['Sex'] == 'female', 1, inplace=True)\n",
    "\n",
    "#Update 'Embarked' variable to floats for model input\n",
    "trainDF['Embarked'].mask(trainDF['Embarked'] == 'S', 0, inplace=True)\n",
    "trainDF['Embarked'].mask(trainDF['Embarked'] == 'C', 1, inplace=True)\n",
    "trainDF['Embarked'].mask(trainDF['Embarked'] == 'Q', 2, inplace=True)\n",
    "testDF['Embarked'].mask(testDF['Embarked'] == 'S', 0, inplace=True)\n",
    "testDF['Embarked'].mask(testDF['Embarked'] == 'C', 1, inplace=True)\n",
    "testDF['Embarked'].mask(testDF['Embarked'] == 'Q', 2, inplace=True)"
   ]
  },
  {
   "cell_type": "code",
   "execution_count": 572,
   "id": "ac8d675e-cdf3-4057-9564-492a2084ada1",
   "metadata": {},
   "outputs": [
    {
     "name": "stdout",
     "output_type": "stream",
     "text": [
      "687\n",
      "891\n",
      "0.7710437710437711\n"
     ]
    }
   ],
   "source": [
    "#Check for percentage of NaN values in 'Cabin'\n",
    "\n",
    "print(trainDF['Cabin'].isna().sum())\n",
    "print(len(trainDF['Cabin']))\n",
    "print(687/891)\n",
    "\n",
    "#trainDF['Room Number'] = trainDF['Cabin'].astype(int).str[1:]"
   ]
  },
  {
   "cell_type": "markdown",
   "id": "1987c430-a458-481d-8e06-4aafd7969c42",
   "metadata": {
    "tags": []
   },
   "source": [
    "The 'Cabin' variable is missing a majority of its values. This is a tricky variable to drop, as Titanic historians would argue the 'Cabin' value -- and, in particular, the deck level -- would have a lot of bearing on the survival likelihood of a passenger. This is because certain deck levels were locked off during the sinking of the ship, and other decks were difficult to navigate, depending on what amenities and / or common areas were present on that level.\n",
    "\n",
    "Theoretically, the 'Cabin' NaN values could be fixed as follows:\n",
    "\n",
    "* Split 'Cabin' into two columns - 'Deck Level' and 'Room Number'\n",
    "* Convert the 'Deck Level' to corresponding numerical values\n",
    "* Take the floor of the average of the 'Deck Level' values to determine a replacement value for 'Deck Level' NaN values\n",
    "* Take the floor of the average of the 'Room Number' values to determine a replacement value for 'Room Number' NaN values\n",
    "\n",
    "However, this is a very simplistic approach to estimating Cabin assignment across the ship, and as Cabin assignment would be heavily randomized once bucketed by class (i.e. 1st class was on upper decks but throughout the length of the ship), this wouldn't provide much additional information."
   ]
  },
  {
   "cell_type": "code",
   "execution_count": 559,
   "id": "135ebaa2-42ad-4dac-8924-1d403b30ccb2",
   "metadata": {},
   "outputs": [
    {
     "name": "stdout",
     "output_type": "stream",
     "text": [
      "0\n",
      "0\n",
      "177\n",
      "0\n",
      "0\n",
      "0\n",
      "2\n"
     ]
    }
   ],
   "source": [
    "print(trainDF['Pclass'].isna().sum())\n",
    "print(trainDF['Sex'].isna().sum())\n",
    "print(trainDF['Age'].isna().sum())\n",
    "print(trainDF['SibSp'].isna().sum())\n",
    "print(trainDF['Parch'].isna().sum())\n",
    "print(trainDF['Fare'].isna().sum())\n",
    "print(trainDF['Embarked'].isna().sum())"
   ]
  },
  {
   "cell_type": "code",
   "execution_count": 560,
   "id": "1eb02994-7d05-4d44-9654-d059490f1aa9",
   "metadata": {},
   "outputs": [],
   "source": [
    "#Calculate average age of first class passengers\n",
    "avgAge1stTrain = trainDF.loc[trainDF['Pclass'] == 1]['Age'].mean()\n",
    "trainDF.loc[trainDF['Pclass'] == 1, 'Age'] = trainDF.loc[trainDF['Pclass'] == 1, 'Age'].fillna(avgAge1stTrain)\n",
    "\n",
    "#Calculate average age of second class passengers\n",
    "avgAge2ndTrain = trainDF[trainDF['Pclass'] == 2]['Age'].mean()\n",
    "trainDF.loc[trainDF['Pclass'] == 2, 'Age'] = trainDF.loc[trainDF['Pclass'] == 2, 'Age'].fillna(avgAge2ndTrain)\n",
    "\n",
    "#Calculate average age of third class passengers\n",
    "avgAge3rdTrain = trainDF[trainDF['Pclass'] == 3]['Age'].mean()\n",
    "trainDF.loc[trainDF['Pclass'] == 3, 'Age'] = trainDF.loc[trainDF['Pclass'] == 3, 'Age'].fillna(avgAge3rdTrain)"
   ]
  },
  {
   "cell_type": "code",
   "execution_count": 561,
   "id": "2db2a0d6-7843-40d4-a6df-986530962069",
   "metadata": {},
   "outputs": [],
   "source": [
    "#Replace NaN in 'Embarked' with values\n",
    "trainDF.loc[:, 'Embarked'] = trainDF.loc[:, 'Embarked'].fillna('1')"
   ]
  },
  {
   "cell_type": "code",
   "execution_count": 562,
   "id": "21830e72-54ac-4b94-a7a0-ee2f0252c53a",
   "metadata": {},
   "outputs": [
    {
     "name": "stdout",
     "output_type": "stream",
     "text": [
      "0\n",
      "0\n",
      "86\n",
      "0\n",
      "0\n",
      "1\n",
      "0\n"
     ]
    }
   ],
   "source": [
    "print(testDF['Pclass'].isna().sum())\n",
    "print(testDF['Sex'].isna().sum())\n",
    "print(testDF['Age'].isna().sum())\n",
    "print(testDF['SibSp'].isna().sum())\n",
    "print(testDF['Parch'].isna().sum())\n",
    "print(testDF['Fare'].isna().sum())\n",
    "print(testDF['Embarked'].isna().sum())"
   ]
  },
  {
   "cell_type": "markdown",
   "id": "bd23b108-21d9-46b9-8cbe-84920bb0a14e",
   "metadata": {},
   "source": [
    "The age of a passenger would likely vary based on 'Pclass'. Thus, we will replace the NaN 'Age' values with the average age of passengers bucketed by 'Pclass'."
   ]
  },
  {
   "cell_type": "code",
   "execution_count": 563,
   "id": "558f83f9-d7de-402c-bbfb-56095063eb06",
   "metadata": {},
   "outputs": [],
   "source": [
    "#Calculate average age of first class passengers\n",
    "avgAge1stTest = testDF.loc[testDF['Pclass'] == 1]['Age'].mean()\n",
    "testDF.loc[testDF['Pclass'] == 1, 'Age'] = testDF.loc[testDF['Pclass'] == 1, 'Age'].fillna(avgAge1stTest)\n",
    "\n",
    "#Calculate average age of second class passengers\n",
    "avgAge2ndTest = testDF[testDF['Pclass'] == 2]['Age'].mean()\n",
    "testDF.loc[testDF['Pclass'] == 2, 'Age'] = testDF.loc[testDF['Pclass'] == 2, 'Age'].fillna(avgAge2ndTest)\n",
    "\n",
    "#Calculate average age of third class passengers\n",
    "avgAge3rdTest = testDF[testDF['Pclass'] == 3]['Age'].mean()\n",
    "testDF.loc[testDF['Pclass'] == 3, 'Age'] = testDF.loc[testDF['Pclass'] == 3, 'Age'].fillna(avgAge3rdTest)"
   ]
  },
  {
   "cell_type": "code",
   "execution_count": 564,
   "id": "26a9bd10-2730-4fc6-8e51-3b63f5a4ba10",
   "metadata": {},
   "outputs": [],
   "source": [
    "#Identify class of passenger and calculate average fare \n",
    "nullFares = testDF[testDF['Fare'].isnull()]\n",
    "passengerClass = nullFares.values[0][1]\n",
    "testDF.loc[testDF['Pclass'] == passengerClass, 'Fare'] = testDF.loc[testDF['Pclass'] == passengerClass, 'Fare'].fillna(avgFare)"
   ]
  },
  {
   "cell_type": "markdown",
   "id": "29012ef9-1984-4ef9-82d9-c2afab1a101b",
   "metadata": {},
   "source": [
    "## Building & Executing Linear Regression Model"
   ]
  },
  {
   "cell_type": "markdown",
   "id": "53bc5dec-99fd-47ce-9263-4f73e57ceede",
   "metadata": {},
   "source": [
    "Note: I haven't added any scaling to the dataset. Without scaling, the Logistic Regression algorithm may not be able to correctly converge. However, one way to resolve this is by increasing the number of iterations of the algorithm from '100' to '1000'. This is how I have handled this particular scenario. Other options may include:\n",
    "\n",
    "* Trying a different optimizer\n",
    "* Scaling the data\n",
    "* Adding engineered features\n",
    "* Additional data pre-processing\n",
    "* Adding more data"
   ]
  },
  {
   "cell_type": "markdown",
   "id": "625a0e5b-672a-4d0c-aa32-88fdab3ce522",
   "metadata": {},
   "source": [
    "#### Model & Prediction Results"
   ]
  },
  {
   "cell_type": "markdown",
   "id": "dc0237fc-5138-4cda-82b1-0b55b3790930",
   "metadata": {},
   "source": [
    "Note: Splitting of variables can also happen with the train_test_split function from sklearn.crossvalidation."
   ]
  },
  {
   "cell_type": "code",
   "execution_count": 565,
   "id": "1dd58836-85c4-439c-b31c-d4016439d288",
   "metadata": {},
   "outputs": [
    {
     "name": "stdout",
     "output_type": "stream",
     "text": [
      "[1 1 0 1 0 1 0 1 0 0 1 0 0 0 0 0 0 1 0 0 0 0 0 0 1 1 0 1 0 0 0 0 1 0 0 0 0\n",
      " 0 0 1 0 1 0 0 0 1 0 1 0 1 1 0 0 0 0 1 0 0 0 0 1 0 0 0 1 0 1 0 1 1 0 0 1 0\n",
      " 0 1 0 0 0 1 1 1 1 0 0 0 0 1 0 0 0 0 0 1 0 0 1 0 0 0 1 0 0 1 0 1 1 0 1 0 1\n",
      " 0 1 0 0 1 1 1 1 0 0 0 0 1 0 0 0 0 0 0 0 1 0 1 0 1 1 0 0 1 0 0 0 0 0 1 1 0\n",
      " 1 0 0 1 1 0 0 1 1 1 0 1 0 0 1 0 1 0 0 0 0 0 0 0 0 1 1 0 0 0 1]\n",
      "[0 1 0 0 1 1 0 1 0 0 1 0 1 0 0 0 0 1 0 1 0 0 0 0 1 0 0 0 0 0 0 0 0 0 0 0 0\n",
      " 0 0 1 0 1 0 0 0 1 0 1 0 1 1 0 0 0 0 1 0 0 1 0 1 0 0 0 1 0 1 0 1 1 0 0 1 0\n",
      " 0 1 0 0 0 0 1 1 1 0 1 0 1 0 0 0 0 1 0 1 0 0 1 0 0 1 1 1 0 1 0 1 1 0 1 0 1\n",
      " 0 1 0 0 0 1 1 0 1 1 0 1 1 0 1 1 0 1 0 0 1 0 1 0 1 0 0 0 0 0 0 0 0 0 1 1 1\n",
      " 0 0 0 1 1 1 1 1 1 1 0 1 1 0 1 1 1 0 0 0 0 0 0 0 0 1 1 0 1 0 1]\n"
     ]
    }
   ],
   "source": [
    "#Create train and test datasets\n",
    "trainSize = len(trainDF)*.80\n",
    "trainDataset = trainDF.sample(int(trainSize))\n",
    "testDataset = trainDF[~trainDF.index.isin(trainDataset.index)]\n",
    "\n",
    "trainX = trainDataset[['Pclass', 'Sex', 'Age', 'SibSp', 'Parch', 'Fare', 'Embarked']].copy() #Identify features for inclusion\n",
    "trainY = trainDataset[['Survived']].copy() #Target Variable\n",
    "\n",
    "testX = testDataset[['Pclass', 'Sex', 'Age', 'SibSp', 'Parch', 'Fare', 'Embarked']].copy()\n",
    "testY = testDataset[['Survived']].copy() #Target Variable\n",
    "\n",
    "#Instantiate model with default parameters\n",
    "logreg = LogisticRegression(solver='lbfgs', max_iter=1000)\n",
    "\n",
    "#Fit model with training data\n",
    "logreg.fit(trainX, trainY.values.ravel())\n",
    "\n",
    "#Import training dataset and calculate predictions\n",
    "testResults = logreg.predict(testX)\n",
    "\n",
    "print(testResults)\n",
    "print(testY.values.ravel())"
   ]
  },
  {
   "cell_type": "markdown",
   "id": "19940c10-e801-4074-94bd-92ffa4a059b6",
   "metadata": {},
   "source": [
    "#### Model Evaluation Using Confusion Matrix"
   ]
  },
  {
   "cell_type": "code",
   "execution_count": 566,
   "id": "29c98865-d24c-4553-bbf4-cf15a8b69d08",
   "metadata": {},
   "outputs": [
    {
     "data": {
      "text/plain": [
       "array([[95, 12],\n",
       "       [21, 51]])"
      ]
     },
     "execution_count": 566,
     "metadata": {},
     "output_type": "execute_result"
    }
   ],
   "source": [
    "confusionMatrix = metrics.confusion_matrix(testY.values.ravel(), testResults)\n",
    "confusionMatrix"
   ]
  },
  {
   "cell_type": "code",
   "execution_count": 567,
   "id": "a2bef6d7-027e-4114-a3c8-665347c7f18f",
   "metadata": {},
   "outputs": [
    {
     "data": {
      "text/plain": [
       "Text(0.5, 257.44, 'Predicted Survival Classification')"
      ]
     },
     "execution_count": 567,
     "metadata": {},
     "output_type": "execute_result"
    },
    {
     "data": {
      "image/png": "[encoded data removed]",
      "text/plain": [
       "<Figure size 432x288 with 2 Axes>"
      ]
     },
     "metadata": {
      "needs_background": "light"
     },
     "output_type": "display_data"
    }
   ],
   "source": [
    "class_names = ['Not Survived', 'Survived'] # Name of classes\n",
    "fig, ax = plt.subplots()\n",
    "tick_marks = np.arange(len(class_names))\n",
    "plt.xticks(tick_marks, class_names)\n",
    "plt.yticks(tick_marks, class_names)\n",
    "\n",
    "#Create Heatmap\n",
    "sns.heatmap(pd.DataFrame(confusionMatrix), annot=True, fmt='g')\n",
    "ax.xaxis.set_label_position(\"top\")\n",
    "plt.tight_layout()\n",
    "plt.title('Titanic Confusion Matrix', y=1.1)\n",
    "plt.ylabel('Actual Survival Classification')\n",
    "plt.xlabel('Predicted Survival Classification')"
   ]
  },
  {
   "cell_type": "markdown",
   "id": "041956eb-281d-4993-a406-cd6d5e758417",
   "metadata": {},
   "source": [
    "#### Model Accuracy, Precision, & Recall"
   ]
  },
  {
   "cell_type": "markdown",
   "id": "c774728a-2617-46d2-bb8c-ba7fe2034363",
   "metadata": {},
   "source": [
    "We will now check the model for its accuracy, precision, and recall. These terms can be defined as follows:\n",
    "\n",
    "* **Accuracy:** The proportion of true results among the total number of cases examined.\n",
    "* **Precision:** The proportion of predicted 'Survived' values that are truly 'Survived'.\n",
    "* **Recall:** The proportion of truly 'Survived' values that have been accurately classified by the model.\n"
   ]
  },
  {
   "cell_type": "code",
   "execution_count": 568,
   "id": "70a0cf0d-1a00-45fc-8bcb-4d66f1bff884",
   "metadata": {},
   "outputs": [
    {
     "name": "stdout",
     "output_type": "stream",
     "text": [
      "Accuracy: 0.8156424581005587\n",
      "Precision: 0.8095238095238095\n",
      "Recall: 0.7083333333333334\n"
     ]
    }
   ],
   "source": [
    "print(\"Accuracy:\", metrics.accuracy_score(testY.values.ravel(), testResults))\n",
    "print(\"Precision:\", metrics.precision_score(testY.values.ravel(), testResults))\n",
    "print(\"Recall:\", metrics.recall_score(testY.values.ravel(), testResults))"
   ]
  },
  {
   "cell_type": "markdown",
   "id": "887be71c-258c-463b-9a8f-dfe3415f0262",
   "metadata": {},
   "source": [
    "## Check for Multicollinearity"
   ]
  },
  {
   "cell_type": "markdown",
   "id": "26d5eaab-ea32-42e4-bc55-1b40cefb7edc",
   "metadata": {},
   "source": [
    "#### Check Pearson's Correlation Coefficient"
   ]
  },
  {
   "cell_type": "code",
   "execution_count": 569,
   "id": "61bc9286-6d97-4628-856e-5721e6994e6c",
   "metadata": {},
   "outputs": [
    {
     "data": {
      "image/png": "[encoded data removed]",
      "text/plain": [
       "<Figure size 432x288 with 2 Axes>"
      ]
     },
     "metadata": {
      "needs_background": "light"
     },
     "output_type": "display_data"
    }
   ],
   "source": [
    "triangleMask = np.triu(np.ones_like(trainDF.corr(), dtype=bool))\n",
    "sns.heatmap(trainDF.corr(), annot=True, mask = triangleMask, vmin=-1, vmax=1)\n",
    "plt.title('Correlation Coefficient of Explanatory Variables')\n",
    "plt.show()"
   ]
  },
  {
   "cell_type": "markdown",
   "id": "cd8f46a6-28e3-40cc-aec3-86b3ec43449e",
   "metadata": {},
   "source": [
    "## Run Model on Kaggle Test Set"
   ]
  },
  {
   "cell_type": "markdown",
   "id": "01b45784-63d2-4f6d-9e0e-86cd9bc56dbc",
   "metadata": {},
   "source": [
    "#### Run Model on Test Dataset"
   ]
  },
  {
   "cell_type": "code",
   "execution_count": 570,
   "id": "8f64feeb-2cbb-4390-a07b-e5f3ff8d465e",
   "metadata": {},
   "outputs": [
    {
     "data": {
      "text/plain": [
       "array([0, 0, 0, 0, 1, 0, 1, 0, 1, 0, 0, 0, 1, 0, 1, 1, 0, 0, 1, 0, 0, 0,\n",
       "       1, 1, 1, 0, 1, 0, 0, 0, 0, 0, 0, 1, 1, 0, 1, 1, 0, 0, 0, 0, 0, 1,\n",
       "       1, 0, 0, 0, 1, 0, 1, 0, 1, 1, 0, 0, 0, 0, 0, 1, 0, 0, 0, 1, 1, 1,\n",
       "       1, 0, 1, 1, 1, 0, 1, 1, 1, 1, 0, 1, 0, 1, 0, 0, 0, 0, 0, 0, 1, 1,\n",
       "       1, 0, 1, 0, 1, 0, 1, 0, 1, 0, 1, 0, 1, 0, 0, 0, 1, 0, 0, 0, 0, 0,\n",
       "       0, 1, 1, 1, 1, 0, 0, 1, 1, 1, 1, 0, 1, 0, 0, 1, 0, 1, 0, 0, 0, 0,\n",
       "       1, 0, 0, 0, 0, 0, 1, 0, 0, 1, 0, 0, 0, 0, 0, 0, 0, 0, 1, 0, 0, 0,\n",
       "       0, 0, 1, 1, 0, 1, 1, 0, 1, 0, 0, 1, 0, 0, 1, 1, 0, 0, 0, 0, 0, 1,\n",
       "       1, 0, 1, 1, 0, 0, 1, 0, 1, 0, 1, 0, 0, 0, 0, 0, 0, 0, 0, 0, 1, 1,\n",
       "       0, 1, 1, 0, 0, 1, 0, 0, 1, 0, 1, 0, 0, 0, 0, 0, 0, 0, 1, 0, 1, 0,\n",
       "       1, 0, 1, 0, 1, 1, 0, 1, 0, 0, 0, 1, 0, 0, 0, 0, 0, 0, 1, 1, 1, 1,\n",
       "       0, 0, 0, 0, 1, 0, 1, 1, 1, 0, 1, 0, 0, 0, 0, 0, 1, 0, 0, 0, 1, 1,\n",
       "       0, 0, 0, 0, 1, 0, 0, 0, 1, 1, 0, 1, 0, 0, 0, 0, 1, 0, 1, 1, 1, 0,\n",
       "       0, 1, 0, 0, 0, 1, 0, 0, 0, 0, 1, 0, 1, 0, 0, 0, 0, 0, 1, 1, 0, 0,\n",
       "       0, 0, 0, 0, 0, 1, 1, 1, 0, 0, 0, 0, 0, 0, 0, 0, 1, 0, 1, 0, 0, 0,\n",
       "       1, 0, 0, 1, 0, 1, 0, 0, 0, 0, 0, 0, 0, 1, 0, 1, 0, 1, 0, 1, 1, 0,\n",
       "       0, 0, 1, 0, 1, 0, 0, 0, 0, 1, 1, 0, 1, 0, 0, 1, 1, 0, 0, 1, 0, 0,\n",
       "       1, 1, 1, 0, 0, 0, 0, 0, 1, 1, 0, 1, 0, 0, 0, 0, 1, 1, 0, 0, 0, 1,\n",
       "       0, 1, 0, 0, 1, 0, 1, 1, 0, 0, 0, 0, 1, 1, 1, 1, 1, 0, 1, 0, 0, 0])"
      ]
     },
     "execution_count": 570,
     "metadata": {},
     "output_type": "execute_result"
    }
   ],
   "source": [
    "# Create Dataframe with data for submission\n",
    "submissionData = testDF[['Pclass', 'Sex', 'Age', 'SibSp', 'Parch', 'Fare', 'Embarked']].copy()\n",
    "\n",
    "# Run model on submission dataset\n",
    "submissionResults = logreg.predict(submissionData)\n",
    "submissionResults"
   ]
  },
  {
   "cell_type": "markdown",
   "id": "e0af2bb4-ba6c-491c-8a2f-4f7e8d2325c5",
   "metadata": {},
   "source": [
    "#### Create Submission File"
   ]
  },
  {
   "cell_type": "code",
   "execution_count": 571,
   "id": "fa90b7f1-4e82-4c00-be27-e09a31c3bd58",
   "metadata": {},
   "outputs": [],
   "source": [
    "submissionFile = pd.DataFrame({'PassengerId' : testDF.values[:,0], 'Survived' : submissionResults })\n",
    "submissionFile.to_csv(\"titanic-submission-binary classification.csv\", index=False)"
   ]
  }
 ],
 "metadata": {
  "kernelspec": {
   "display_name": "Python 3 (ipykernel)",
   "language": "python",
   "name": "python3"
  },
  "language_info": {
   "codemirror_mode": {
    "name": "ipython",
    "version": 3
   },
   "file_extension": ".py",
   "mimetype": "text/x-python",
   "name": "python",
   "nbconvert_exporter": "python",
   "pygments_lexer": "ipython3",
   "version": "3.9.7"
  }
 },
 "nbformat": 4,
 "nbformat_minor": 5
}
